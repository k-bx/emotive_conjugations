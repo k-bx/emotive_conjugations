{
 "cells": [
  {
   "cell_type": "code",
   "execution_count": 1,
   "metadata": {},
   "outputs": [
    {
     "name": "stderr",
     "output_type": "stream",
     "text": [
      "Using TensorFlow backend.\n"
     ]
    },
    {
     "name": "stdout",
     "output_type": "stream",
     "text": [
      "> loading spacy\n",
      "> loading en_vectors_web_lg\n",
      "> loading vocab\n",
      "> loading analyser\n",
      "> max_length: 200\n",
      "> path: /home/kb/tmp/emotive_conjugations/data/spacy_keras_model\n"
     ]
    }
   ],
   "source": [
    "from deep_learning_keras import SentimentAnalyser\n",
    "from webserver import encode_token, encode_span"
   ]
  },
  {
   "cell_type": "code",
   "execution_count": 2,
   "metadata": {},
   "outputs": [
    {
     "name": "stdout",
     "output_type": "stream",
     "text": [
      "> loading en_vectors_web_lg\n"
     ]
    }
   ],
   "source": [
    "import spacy\n",
    "sentiment_keras_max_length = 200\n",
    "print('> loading en_vectors_web_lg')\n",
    "nlp2 = spacy.load(\"en_vectors_web_lg\")"
   ]
  },
  {
   "cell_type": "code",
   "execution_count": 3,
   "metadata": {},
   "outputs": [],
   "source": [
    "nlp2 = spacy.load(\"en_vectors_web_lg\")"
   ]
  },
  {
   "cell_type": "code",
   "execution_count": 4,
   "metadata": {},
   "outputs": [
    {
     "name": "stdout",
     "output_type": "stream",
     "text": [
      "> loading vocab\n",
      "> loading analyser\n",
      "> max_length: 200\n",
      "> path: /home/kb/tmp/emotive_conjugations/data/spacy_keras_model\n"
     ]
    }
   ],
   "source": [
    "import json\n",
    "import subprocess\n",
    "from pathlib import Path\n",
    "cfg = json.loads(subprocess.check_output([\"dhall-to-json\", \"--file\", Path.home() / 'conj.dhall']))\n",
    "print('> loading vocab')\n",
    "nlp2.vocab.from_disk(Path(cfg['cfgDataDir']) / 'spacy_keras_model' / 'vocab')\n",
    "print('> loading analyser')\n",
    "sentiment_analyser = SentimentAnalyser.load(\n",
    "    Path(cfg['cfgDataDir']) / 'spacy_keras_model',\n",
    "    nlp2,\n",
    "    max_length=sentiment_keras_max_length)\n",
    "nlp = spacy.load(\"en_core_web_sm\")\n"
   ]
  },
  {
   "cell_type": "code",
   "execution_count": 17,
   "metadata": {},
   "outputs": [
    {
     "name": "stdout",
     "output_type": "stream",
     "text": [
      "{0: 0.49714940786361694, 6: 0.49714940786361694}\n"
     ]
    }
   ],
   "source": [
    "text = 'Wonderfully talented masterpiece deserving recognition. Despicably awful tasteless piece of garbage.'\n",
    "doc = nlp(text)\n",
    "rv = {\n",
    "    \"tokens\": [],\n",
    "    \"sents\": [],\n",
    "    \"sent_sentiment\": {}\n",
    "}\n",
    "for token in doc:\n",
    "    rv[\"tokens\"].append(encode_token(token))\n",
    "for sent in doc.sents:\n",
    "    rv[\"sents\"].append(encode_span(sent))\n",
    "    rv[\"sent_sentiment\"][sent.start] = sentiment_analyser(sent)\n",
    "print(rv['sent_sentiment'])"
   ]
  },
  {
   "cell_type": "code",
   "execution_count": null,
   "metadata": {},
   "outputs": [],
   "source": []
  }
 ],
 "metadata": {
  "kernelspec": {
   "display_name": "Python 3",
   "language": "python",
   "name": "python3"
  },
  "language_info": {
   "codemirror_mode": {
    "name": "ipython",
    "version": 3
   },
   "file_extension": ".py",
   "mimetype": "text/x-python",
   "name": "python",
   "nbconvert_exporter": "python",
   "pygments_lexer": "ipython3",
   "version": "3.8.2"
  }
 },
 "nbformat": 4,
 "nbformat_minor": 4
}
